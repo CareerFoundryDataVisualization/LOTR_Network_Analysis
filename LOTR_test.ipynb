{
 "cells": [
  {
   "cell_type": "markdown",
   "id": "61ddac85-444b-4dc6-9ca3-f78cd7c231e1",
   "metadata": {},
   "source": [
    "# LOTR_Project "
   ]
  },
  {
   "cell_type": "markdown",
   "id": "6a6f6fec-28d1-43fe-97b0-c3c52bf10316",
   "metadata": {},
   "source": [
    "## This is the first script for this project"
   ]
  },
  {
   "cell_type": "code",
   "execution_count": null,
   "id": "91cf22f3-562a-4404-b0bf-ee6b9fdf8d2e",
   "metadata": {},
   "outputs": [],
   "source": []
  }
 ],
 "metadata": {
  "kernelspec": {
   "display_name": "Python 3 (ipykernel)",
   "language": "python",
   "name": "python3"
  },
  "language_info": {
   "codemirror_mode": {
    "name": "ipython",
    "version": 3
   },
   "file_extension": ".py",
   "mimetype": "text/x-python",
   "name": "python",
   "nbconvert_exporter": "python",
   "pygments_lexer": "ipython3",
   "version": "3.9.12"
  }
 },
 "nbformat": 4,
 "nbformat_minor": 5
}
