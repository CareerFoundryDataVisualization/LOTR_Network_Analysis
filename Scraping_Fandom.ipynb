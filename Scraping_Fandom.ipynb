{
 "cells": [
  {
   "cell_type": "code",
   "execution_count": 1,
   "id": "591dc5ff-2201-44fd-92df-07b6f41627fd",
   "metadata": {},
   "outputs": [],
   "source": [
    "# Import libraries\n",
    "\n",
    "import pandas as pd\n",
    "import time\n",
    "from selenium import webdriver\n",
    "from webdriver_manager.chrome import ChromeDriverManager\n",
    "from selenium.webdriver.common.by import By\n",
    "from selenium.webdriver.chrome.service import Service\n",
    "from selenium.webdriver.chrome.options import Options\n",
    "import matplotlib.pyplot as plt\n",
    "import os\n",
    "import logging"
   ]
  },
  {
   "cell_type": "code",
   "execution_count": 2,
   "id": "44f789e1-c8b3-476a-b861-e11983d61cf7",
   "metadata": {},
   "outputs": [],
   "source": [
    "# Second portion\n",
    "\n",
    "import requests\n",
    "from bs4 import BeautifulSoup"
   ]
  },
  {
   "cell_type": "code",
   "execution_count": 3,
   "id": "025905b8-f327-4b7b-a77a-a92a7c8ca660",
   "metadata": {},
   "outputs": [],
   "source": [
    "#### On next iteration - check whether it will work with this commented out!\n",
    "\n",
    "# Silent download of drivers\n",
    "#logging.getLogger('WDM').setLevel(logging.NOTSET)\n",
    "#os.environ['WDM_LOG'] = 'False'"
   ]
  },
  {
   "cell_type": "code",
   "execution_count": 4,
   "id": "6a51b71b-6fd2-4699-a901-54a57e83998d",
   "metadata": {},
   "outputs": [],
   "source": [
    "## Setup chrome options\n",
    "\n",
    "chrome_options = Options()\n",
    "chrome_options.add_argument(\"--headless\") # Ensure GUI is off\n",
    "chrome_options.add_argument(\"--no-sandbox\")"
   ]
  },
  {
   "cell_type": "code",
   "execution_count": 5,
   "id": "01938f92-bc78-4720-9366-80e3cd49a22a",
   "metadata": {},
   "outputs": [
    {
     "name": "stderr",
     "output_type": "stream",
     "text": [
      "[WDM] - Downloading: 100%|████████████████████████████████████████████████████████| 6.46M/6.46M [00:00<00:00, 11.9MB/s]\n"
     ]
    }
   ],
   "source": [
    "service = Service(executable_path=ChromeDriverManager().install())"
   ]
  },
  {
   "cell_type": "code",
   "execution_count": 6,
   "id": "89e2cde1-c238-4321-abc6-6056c67dbe43",
   "metadata": {},
   "outputs": [],
   "source": [
    "driver = webdriver.Chrome(executable_path=r'C:\\Program Files\\Google\\Chrome\\chromedriver.exe')"
   ]
  },
  {
   "cell_type": "markdown",
   "id": "86668e58-988a-4da8-9b6d-7786e0b7c3e7",
   "metadata": {},
   "source": [
    "## Only selenium"
   ]
  },
  {
   "cell_type": "code",
   "execution_count": 7,
   "id": "c866f91d-6b66-4e7f-8036-730df4682cef",
   "metadata": {},
   "outputs": [],
   "source": [
    "# Get the page's contents\n",
    "\n",
    "page_url = \"https://lotr.fandom.com/wiki/Category:Major_characters_(The_Lord_of_the_Rings)\"\n",
    "driver.get(page_url)"
   ]
  },
  {
   "cell_type": "code",
   "execution_count": 8,
   "id": "de356d31-b40b-43ab-98aa-7fc68f019013",
   "metadata": {},
   "outputs": [],
   "source": [
    "# Click on Accept cookies\n",
    "\n",
    "time.sleep(3)\n",
    "driver.find_element(By.XPATH, '//div[text()=\"ACCEPT\"]').click()"
   ]
  },
  {
   "cell_type": "code",
   "execution_count": 9,
   "id": "c5e0975c-6542-4d60-8124-0e5312af4dcd",
   "metadata": {},
   "outputs": [],
   "source": [
    "# Create a collection of the characters\n",
    "\n",
    "character_elems = driver.find_elements(by=By.CLASS_NAME, value = 'category-page__member')"
   ]
  },
  {
   "cell_type": "code",
   "execution_count": 10,
   "id": "6a2e1619-9208-48e9-a7e4-653608e91ded",
   "metadata": {},
   "outputs": [
    {
     "data": {
      "text/plain": [
       "'Aragorn II Elessar'"
      ]
     },
     "execution_count": 10,
     "metadata": {},
     "output_type": "execute_result"
    }
   ],
   "source": [
    "# Check the first element\n",
    "\n",
    "character_elems[0].text"
   ]
  },
  {
   "cell_type": "code",
   "execution_count": 11,
   "id": "75fcd20e-9d1c-4bb0-8abd-c801e2fdbaab",
   "metadata": {},
   "outputs": [],
   "source": [
    "# Check the element's link\n",
    "\n",
    "character_elems[0].get_attribute('href')"
   ]
  },
  {
   "cell_type": "code",
   "execution_count": 12,
   "id": "c05d044a-24d9-425f-a55b-f4de57d971f6",
   "metadata": {},
   "outputs": [],
   "source": [
    "# Create a list\n",
    "\n",
    "character_list =[]\n",
    "\n",
    "for elem in character_elems:\n",
    "        character_list.append({'character': elem.text})"
   ]
  },
  {
   "cell_type": "code",
   "execution_count": 13,
   "id": "60d110cf-6f52-46c0-8ffa-5d368661a959",
   "metadata": {},
   "outputs": [],
   "source": [
    "# Put the characters into a dataframe\n",
    "\n",
    "df = pd.DataFrame(character_list)"
   ]
  },
  {
   "cell_type": "code",
   "execution_count": 14,
   "id": "d6e774ed-7fb2-4975-974a-97d10988e052",
   "metadata": {
    "tags": []
   },
   "outputs": [
    {
     "data": {
      "text/html": [
       "<div>\n",
       "<style scoped>\n",
       "    .dataframe tbody tr th:only-of-type {\n",
       "        vertical-align: middle;\n",
       "    }\n",
       "\n",
       "    .dataframe tbody tr th {\n",
       "        vertical-align: top;\n",
       "    }\n",
       "\n",
       "    .dataframe thead th {\n",
       "        text-align: right;\n",
       "    }\n",
       "</style>\n",
       "<table border=\"1\" class=\"dataframe\">\n",
       "  <thead>\n",
       "    <tr style=\"text-align: right;\">\n",
       "      <th></th>\n",
       "      <th>character</th>\n",
       "    </tr>\n",
       "  </thead>\n",
       "  <tbody>\n",
       "    <tr>\n",
       "      <th>0</th>\n",
       "      <td>Aragorn II Elessar</td>\n",
       "    </tr>\n",
       "    <tr>\n",
       "      <th>1</th>\n",
       "      <td>Arwen</td>\n",
       "    </tr>\n",
       "    <tr>\n",
       "      <th>2</th>\n",
       "      <td>Frodo Baggins</td>\n",
       "    </tr>\n",
       "    <tr>\n",
       "      <th>3</th>\n",
       "      <td>Boromir</td>\n",
       "    </tr>\n",
       "    <tr>\n",
       "      <th>4</th>\n",
       "      <td>Meriadoc Brandybuck</td>\n",
       "    </tr>\n",
       "    <tr>\n",
       "      <th>5</th>\n",
       "      <td>Celeborn</td>\n",
       "    </tr>\n",
       "    <tr>\n",
       "      <th>6</th>\n",
       "      <td>Denethor II</td>\n",
       "    </tr>\n",
       "    <tr>\n",
       "      <th>7</th>\n",
       "      <td>Elrond</td>\n",
       "    </tr>\n",
       "    <tr>\n",
       "      <th>8</th>\n",
       "      <td>Éomer</td>\n",
       "    </tr>\n",
       "    <tr>\n",
       "      <th>9</th>\n",
       "      <td>Éowyn</td>\n",
       "    </tr>\n",
       "    <tr>\n",
       "      <th>10</th>\n",
       "      <td>Erkenbrand</td>\n",
       "    </tr>\n",
       "    <tr>\n",
       "      <th>11</th>\n",
       "      <td>Faramir</td>\n",
       "    </tr>\n",
       "    <tr>\n",
       "      <th>12</th>\n",
       "      <td>Galadriel</td>\n",
       "    </tr>\n",
       "    <tr>\n",
       "      <th>13</th>\n",
       "      <td>Samwise Gamgee</td>\n",
       "    </tr>\n",
       "    <tr>\n",
       "      <th>14</th>\n",
       "      <td>Gandalf</td>\n",
       "    </tr>\n",
       "    <tr>\n",
       "      <th>15</th>\n",
       "      <td>Gimli</td>\n",
       "    </tr>\n",
       "    <tr>\n",
       "      <th>16</th>\n",
       "      <td>Glorfindel</td>\n",
       "    </tr>\n",
       "    <tr>\n",
       "      <th>17</th>\n",
       "      <td>Gollum</td>\n",
       "    </tr>\n",
       "    <tr>\n",
       "      <th>18</th>\n",
       "      <td>Gwaihir</td>\n",
       "    </tr>\n",
       "    <tr>\n",
       "      <th>19</th>\n",
       "      <td>Legolas</td>\n",
       "    </tr>\n",
       "    <tr>\n",
       "      <th>20</th>\n",
       "      <td>Saruman</td>\n",
       "    </tr>\n",
       "    <tr>\n",
       "      <th>21</th>\n",
       "      <td>Sauron</td>\n",
       "    </tr>\n",
       "    <tr>\n",
       "      <th>22</th>\n",
       "      <td>Théoden</td>\n",
       "    </tr>\n",
       "    <tr>\n",
       "      <th>23</th>\n",
       "      <td>Peregrin Took</td>\n",
       "    </tr>\n",
       "    <tr>\n",
       "      <th>24</th>\n",
       "      <td>Treebeard</td>\n",
       "    </tr>\n",
       "    <tr>\n",
       "      <th>25</th>\n",
       "      <td>Witch-king of Angmar</td>\n",
       "    </tr>\n",
       "    <tr>\n",
       "      <th>26</th>\n",
       "      <td>Gríma Wormtongue</td>\n",
       "    </tr>\n",
       "  </tbody>\n",
       "</table>\n",
       "</div>"
      ],
      "text/plain": [
       "               character\n",
       "0     Aragorn II Elessar\n",
       "1                  Arwen\n",
       "2          Frodo Baggins\n",
       "3                Boromir\n",
       "4    Meriadoc Brandybuck\n",
       "5               Celeborn\n",
       "6            Denethor II\n",
       "7                 Elrond\n",
       "8                  Éomer\n",
       "9                  Éowyn\n",
       "10            Erkenbrand\n",
       "11               Faramir\n",
       "12             Galadriel\n",
       "13        Samwise Gamgee\n",
       "14               Gandalf\n",
       "15                 Gimli\n",
       "16            Glorfindel\n",
       "17                Gollum\n",
       "18               Gwaihir\n",
       "19               Legolas\n",
       "20               Saruman\n",
       "21                Sauron\n",
       "22               Théoden\n",
       "23         Peregrin Took\n",
       "24             Treebeard\n",
       "25  Witch-king of Angmar\n",
       "26      Gríma Wormtongue"
      ]
     },
     "execution_count": 14,
     "metadata": {},
     "output_type": "execute_result"
    }
   ],
   "source": [
    "# Check the dataframe\n",
    "\n",
    "df"
   ]
  },
  {
   "cell_type": "code",
   "execution_count": 15,
   "id": "a9d85713-cca8-446b-bae4-a4237f294255",
   "metadata": {},
   "outputs": [],
   "source": [
    "driver.quit()"
   ]
  },
  {
   "cell_type": "code",
   "execution_count": 16,
   "id": "055542c5-d8c4-48ac-ae4a-ec77b5a10c1c",
   "metadata": {},
   "outputs": [],
   "source": [
    "df.to_csv(r'C:\\Users\\Owner\\Documents\\Work local\\LOTR_Network_Analysis\\LOTR_characters.csv')"
   ]
  }
 ],
 "metadata": {
  "kernelspec": {
   "display_name": "Python [conda env:venv_lotr] *",
   "language": "python",
   "name": "conda-env-venv_lotr-py"
  },
  "language_info": {
   "codemirror_mode": {
    "name": "ipython",
    "version": 3
   },
   "file_extension": ".py",
   "mimetype": "text/x-python",
   "name": "python",
   "nbconvert_exporter": "python",
   "pygments_lexer": "ipython3",
   "version": "3.10.8"
  }
 },
 "nbformat": 4,
 "nbformat_minor": 5
}
