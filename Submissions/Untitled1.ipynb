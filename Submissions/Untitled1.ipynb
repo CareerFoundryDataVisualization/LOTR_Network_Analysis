{
 "cells": [
  {
   "cell_type": "code",
   "execution_count": 1,
   "id": "6dd58cef-968f-4ccc-a61a-a92616f96bc0",
   "metadata": {},
   "outputs": [
    {
     "name": "stdout",
     "output_type": "stream",
     "text": [
      "['C:\\\\Users\\\\Owner\\\\Documents\\\\Work local\\\\Submissions', 'C:\\\\Users\\\\Owner\\\\anaconda3\\\\python39.zip', 'C:\\\\Users\\\\Owner\\\\anaconda3\\\\DLLs', 'C:\\\\Users\\\\Owner\\\\anaconda3\\\\lib', 'C:\\\\Users\\\\Owner\\\\anaconda3', '', 'C:\\\\Users\\\\Owner\\\\anaconda3\\\\lib\\\\site-packages', 'C:\\\\Users\\\\Owner\\\\anaconda3\\\\lib\\\\site-packages\\\\win32', 'C:\\\\Users\\\\Owner\\\\anaconda3\\\\lib\\\\site-packages\\\\win32\\\\lib', 'C:\\\\Users\\\\Owner\\\\anaconda3\\\\lib\\\\site-packages\\\\Pythonwin']\n"
     ]
    }
   ],
   "source": [
    "import sys\n",
    "print(sys.path)"
   ]
  },
  {
   "cell_type": "code",
   "execution_count": null,
   "id": "5e9e6b3a-588e-4078-8133-2fa541234e51",
   "metadata": {},
   "outputs": [],
   "source": []
  }
 ],
 "metadata": {
  "kernelspec": {
   "display_name": "Python 3 (ipykernel)",
   "language": "python",
   "name": "python3"
  },
  "language_info": {
   "codemirror_mode": {
    "name": "ipython",
    "version": 3
   },
   "file_extension": ".py",
   "mimetype": "text/x-python",
   "name": "python",
   "nbconvert_exporter": "python",
   "pygments_lexer": "ipython3",
   "version": "3.9.12"
  }
 },
 "nbformat": 4,
 "nbformat_minor": 5
}
