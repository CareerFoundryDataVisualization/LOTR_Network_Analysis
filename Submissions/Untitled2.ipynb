{
 "cells": [
  {
   "cell_type": "code",
   "execution_count": null,
   "id": "67b87e60-7242-440a-aa12-d877a0023629",
   "metadata": {},
   "outputs": [
    {
     "name": "stdout",
     "output_type": "stream",
     "text": [
      "^C\n",
      "\n",
      "Note: you may need to restart the kernel to use updated packages.\n",
      "Collecting package metadata (current_repodata.json): ...working... done\n",
      "Solving environment: ...working... done\n",
      "\n",
      "## Package Plan ##\n",
      "\n",
      "  environment location: C:\\Users\\Owner\\anaconda3\n",
      "\n",
      "  added / updated specs:\n",
      "    - mamba_gator\n",
      "    - nb_conda_kernels\n",
      "\n",
      "\n",
      "The following packages will be downloaded:\n",
      "\n",
      "    package                    |            build\n",
      "    ---------------------------|-----------------\n",
      "    conda-22.9.0               |   py39hcbf5309_2         985 KB  conda-forge\n",
      "    mamba_gator-5.2.0          |     pyhd8ed1ab_0         4.5 MB  conda-forge\n",
      "    nb_conda_kernels-2.3.1     |   py39hcbf5309_2          28 KB  conda-forge\n",
      "    python_abi-3.9             |           2_cp39           4 KB  conda-forge\n",
      "    ------------------------------------------------------------\n",
      "                                           Total:         5.5 MB\n",
      "\n",
      "The following NEW packages will be INSTALLED:\n",
      "\n",
      "  mamba_gator        conda-forge/noarch::mamba_gator-5.2.0-pyhd8ed1ab_0 None\n",
      "  nb_conda_kernels   conda-forge/win-64::nb_conda_kernels-2.3.1-py39hcbf5309_2 None\n",
      "  python_abi         conda-forge/win-64::python_abi-3.9-2_cp39 None\n",
      "\n",
      "The following packages will be UPDATED:\n",
      "\n",
      "  conda              pkgs/main::conda-22.9.0-py39haa95532_0 --> conda-forge::conda-22.9.0-py39hcbf5309_2 None\n",
      "\n",
      "\n",
      "\n",
      "Downloading and Extracting Packages\n",
      "\n",
      "nb_conda_kernels-2.3 | 28 KB     |            |   0% \n",
      "nb_conda_kernels-2.3 | 28 KB     | #####7     |  57% \n",
      "nb_conda_kernels-2.3 | 28 KB     | ########## | 100% \n",
      "\n",
      "mamba_gator-5.2.0    | 4.5 MB    |            |   0% \n",
      "mamba_gator-5.2.0    | 4.5 MB    |            |   0% \n",
      "mamba_gator-5.2.0    | 4.5 MB    | 4          |   4% \n",
      "mamba_gator-5.2.0    | 4.5 MB    | #8         |  19% \n",
      "mamba_gator-5.2.0    | 4.5 MB    | ###1       |  32% \n",
      "mamba_gator-5.2.0    | 4.5 MB    | ####4      |  44% \n",
      "mamba_gator-5.2.0    | 4.5 MB    | #####4     |  55% \n",
      "mamba_gator-5.2.0    | 4.5 MB    | ######4    |  65% \n",
      "mamba_gator-5.2.0    | 4.5 MB    | #######8   |  79% \n",
      "mamba_gator-5.2.0    | 4.5 MB    | #########2 |  92% \n",
      "mamba_gator-5.2.0    | 4.5 MB    | ########## | 100% \n",
      "\n",
      "conda-22.9.0         | 985 KB    |            |   0% \n",
      "conda-22.9.0         | 985 KB    | #6         |  16% \n",
      "conda-22.9.0         | 985 KB    | ######8    |  68% \n",
      "conda-22.9.0         | 985 KB    | ########## | 100% \n",
      "\n",
      "python_abi-3.9       | 4 KB      |            |   0% \n",
      "python_abi-3.9       | 4 KB      | ########## | 100% \n",
      "Preparing transaction: ...working... done\n",
      "Verifying transaction: ...working... done\n",
      "Executing transaction: ...working... Enabling nb_conda_kernels...\n",
      "CONDA_PREFIX: C:\\Users\\Owner\\anaconda3\n",
      "Status: enabled\n",
      "\n",
      "done\n",
      "Retrieving notices: ...working... done\n"
     ]
    }
   ],
   "source": [
    "conda install -c conda-forge nb_conda_kernels mamba_gator"
   ]
  },
  {
   "cell_type": "code",
   "execution_count": null,
   "id": "2c2271ce-4bb9-42e5-8f2e-f864cc8763d6",
   "metadata": {},
   "outputs": [],
   "source": []
  }
 ],
 "metadata": {
  "kernelspec": {
   "display_name": "Python 3 (ipykernel)",
   "language": "python",
   "name": "python3"
  },
  "language_info": {
   "codemirror_mode": {
    "name": "ipython",
    "version": 3
   },
   "file_extension": ".py",
   "mimetype": "text/x-python",
   "name": "python",
   "nbconvert_exporter": "python",
   "pygments_lexer": "ipython3",
   "version": "3.9.12"
  }
 },
 "nbformat": 4,
 "nbformat_minor": 5
}
