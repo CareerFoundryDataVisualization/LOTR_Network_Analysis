{
 "cells": [
  {
   "cell_type": "code",
   "execution_count": 1,
   "id": "f90593ea-9870-4165-a1a3-71930f7adec7",
   "metadata": {},
   "outputs": [
    {
     "name": "stdout",
     "output_type": "stream",
     "text": [
      "['C:\\\\Users\\\\Owner\\\\Documents\\\\Work local\\\\Submissions', 'C:\\\\Users\\\\Owner\\\\anaconda3\\\\python39.zip', 'C:\\\\Users\\\\Owner\\\\anaconda3\\\\DLLs', 'C:\\\\Users\\\\Owner\\\\anaconda3\\\\lib', 'C:\\\\Users\\\\Owner\\\\anaconda3', '', 'C:\\\\Users\\\\Owner\\\\anaconda3\\\\lib\\\\site-packages', 'C:\\\\Users\\\\Owner\\\\anaconda3\\\\lib\\\\site-packages\\\\win32', 'C:\\\\Users\\\\Owner\\\\anaconda3\\\\lib\\\\site-packages\\\\win32\\\\lib', 'C:\\\\Users\\\\Owner\\\\anaconda3\\\\lib\\\\site-packages\\\\Pythonwin']\n"
     ]
    }
   ],
   "source": [
    "import sys\n",
    "print(sys.path)"
   ]
  },
  {
   "cell_type": "code",
   "execution_count": 6,
   "id": "76bd63bc-86da-4ff5-a00d-4b320c30d03c",
   "metadata": {},
   "outputs": [
    {
     "name": "stdout",
     "output_type": "stream",
     "text": [
      "Python 3.9.12\n"
     ]
    }
   ],
   "source": [
    "!python  --version"
   ]
  },
  {
   "cell_type": "code",
   "execution_count": 7,
   "id": "236236b3-9e4b-467c-bf7f-f2a854465c60",
   "metadata": {},
   "outputs": [
    {
     "name": "stdout",
     "output_type": "stream",
     "text": [
      "['C:\\\\Users\\\\Owner\\\\Documents\\\\Work local\\\\Submissions', 'C:\\\\Users\\\\Owner\\\\anaconda3\\\\python39.zip', 'C:\\\\Users\\\\Owner\\\\anaconda3\\\\DLLs', 'C:\\\\Users\\\\Owner\\\\anaconda3\\\\lib', 'C:\\\\Users\\\\Owner\\\\anaconda3', '', 'C:\\\\Users\\\\Owner\\\\anaconda3\\\\lib\\\\site-packages', 'C:\\\\Users\\\\Owner\\\\anaconda3\\\\lib\\\\site-packages\\\\win32', 'C:\\\\Users\\\\Owner\\\\anaconda3\\\\lib\\\\site-packages\\\\win32\\\\lib', 'C:\\\\Users\\\\Owner\\\\anaconda3\\\\lib\\\\site-packages\\\\Pythonwin']\n"
     ]
    }
   ],
   "source": [
    "print(sys.path)"
   ]
  },
  {
   "cell_type": "code",
   "execution_count": null,
   "id": "639894e0-d12e-4703-b90e-2ccbf8dccc31",
   "metadata": {},
   "outputs": [],
   "source": []
  }
 ],
 "metadata": {
  "kernelspec": {
   "display_name": "Python 3 (ipykernel)",
   "language": "python",
   "name": "python3"
  },
  "language_info": {
   "codemirror_mode": {
    "name": "ipython",
    "version": 3
   },
   "file_extension": ".py",
   "mimetype": "text/x-python",
   "name": "python",
   "nbconvert_exporter": "python",
   "pygments_lexer": "ipython3",
   "version": "3.9.12"
  }
 },
 "nbformat": 4,
 "nbformat_minor": 5
}
