{
 "cells": [
  {
   "cell_type": "code",
   "execution_count": 1,
   "id": "9806817d-f914-44dd-8a11-98dadc061e9a",
   "metadata": {},
   "outputs": [
    {
     "name": "stdout",
     "output_type": "stream",
     "text": [
      "['C:\\\\Users\\\\Owner\\\\Documents\\\\Work local', 'C:\\\\Users\\\\Owner\\\\anaconda3\\\\envs\\\\venv_lotr\\\\python310.zip', 'C:\\\\Users\\\\Owner\\\\anaconda3\\\\envs\\\\venv_lotr\\\\DLLs', 'C:\\\\Users\\\\Owner\\\\anaconda3\\\\envs\\\\venv_lotr\\\\lib', 'C:\\\\Users\\\\Owner\\\\anaconda3\\\\envs\\\\venv_lotr', '', 'C:\\\\Users\\\\Owner\\\\anaconda3\\\\envs\\\\venv_lotr\\\\lib\\\\site-packages', 'C:\\\\Users\\\\Owner\\\\anaconda3\\\\envs\\\\venv_lotr\\\\lib\\\\site-packages\\\\win32', 'C:\\\\Users\\\\Owner\\\\anaconda3\\\\envs\\\\venv_lotr\\\\lib\\\\site-packages\\\\win32\\\\lib', 'C:\\\\Users\\\\Owner\\\\anaconda3\\\\envs\\\\venv_lotr\\\\lib\\\\site-packages\\\\Pythonwin']\n"
     ]
    }
   ],
   "source": [
    "import sys\n",
    "print(sys.path)"
   ]
  },
  {
   "cell_type": "code",
   "execution_count": null,
   "id": "98898088-5a84-4582-9dce-3fa36d0fb9a8",
   "metadata": {},
   "outputs": [],
   "source": []
  }
 ],
 "metadata": {
  "kernelspec": {
   "display_name": "Python [conda env:venv_lotr]",
   "language": "python",
   "name": "conda-env-venv_lotr-py"
  },
  "language_info": {
   "codemirror_mode": {
    "name": "ipython",
    "version": 3
   },
   "file_extension": ".py",
   "mimetype": "text/x-python",
   "name": "python",
   "nbconvert_exporter": "python",
   "pygments_lexer": "ipython3",
   "version": "3.10.8"
  }
 },
 "nbformat": 4,
 "nbformat_minor": 5
}
