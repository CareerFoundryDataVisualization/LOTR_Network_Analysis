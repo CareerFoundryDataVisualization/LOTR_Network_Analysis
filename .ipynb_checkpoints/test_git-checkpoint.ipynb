{
 "cells": [
  {
   "cell_type": "markdown",
   "id": "002e50fa-72b6-423c-b2e9-21a08db8f262",
   "metadata": {},
   "source": [
    "test"
   ]
  },
  {
   "cell_type": "code",
   "execution_count": null,
   "id": "c090c877-ced4-4c4e-800e-c523b8eb4871",
   "metadata": {},
   "outputs": [],
   "source": []
  }
 ],
 "metadata": {
  "kernelspec": {
   "display_name": "Python [conda env:venv_lotr]",
   "language": "python",
   "name": "conda-env-venv_lotr-py"
  },
  "language_info": {
   "codemirror_mode": {
    "name": "ipython",
    "version": 3
   },
   "file_extension": ".py",
   "mimetype": "text/x-python",
   "name": "python",
   "nbconvert_exporter": "python",
   "pygments_lexer": "ipython3",
   "version": "3.10.8"
  }
 },
 "nbformat": 4,
 "nbformat_minor": 5
}
